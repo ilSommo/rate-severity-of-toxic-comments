{
 "cells": [
  {
   "cell_type": "code",
   "execution_count": 9,
   "metadata": {},
   "outputs": [
    {
     "name": "stdout",
     "output_type": "stream",
     "text": [
      "The autoreload extension is already loaded. To reload it, use:\n",
      "  %reload_ext autoreload\n"
     ]
    }
   ],
   "source": [
    "%load_ext autoreload\n",
    "%autoreload 2"
   ]
  },
  {
   "cell_type": "code",
   "execution_count": 10,
   "metadata": {},
   "outputs": [],
   "source": [
    "import os\n",
    "import json\n",
    "\n",
    "import pandas as pd\n",
    "\n",
    "from rate_severity_of_toxic_comments.utilities import *\n",
    "from rate_severity_of_toxic_comments.model import *\n",
    "from rate_severity_of_toxic_comments.dataset import *\n",
    "from rate_severity_of_toxic_comments.training import * \n",
    "from rate_severity_of_toxic_comments.preprocessing import *\n",
    "from rate_severity_of_toxic_comments.tokenizer import * \n",
    "from rate_severity_of_toxic_comments.embedding import * \n",
    "\n",
    "# For descriptive error messages\n",
    "os.environ['CUDA_LAUNCH_BLOCKING'] = \"1\""
   ]
  },
  {
   "cell_type": "code",
   "execution_count": 13,
   "metadata": {},
   "outputs": [
    {
     "name": "stdout",
     "output_type": "stream",
     "text": [
      " Raw DataSet records to preprocess:\t1804874\n",
      " Prerocessed dataframe\n",
      "\n",
      "2345435 terms changed\n",
      "\n",
      " Loading vocabulary from res/vocab/naive.txt\n",
      " Loaded vocabulary\n",
      " Raw DataSet records:\t1804874\n",
      " Creating vocabulary...\n",
      "25% vocabulary created\n",
      "50% vocabulary created\n",
      "75% vocabulary created\n",
      " Vocabulary created\n",
      " Saving vocabulary to path: res/vocab/naive.txt\n",
      "OOV words:  186185\n",
      "OOV examples:  ['beegorc', 'uberpartisans', 'dragonsden', 'mhah', 'ncoic', 'fonics', 'ketsup', 'guiltess', 'pussies', 'longrundata']\n",
      "Known words embedding: 120625\n",
      "Pretrained embeddings size:  400000\n",
      "30.16% Embedding used\n"
     ]
    },
    {
     "name": "stderr",
     "output_type": "stream",
     "text": [
      "306810it [00:02, 112342.52it/s]\n"
     ]
    }
   ],
   "source": [
    "DEFAULT_CONFIG_FILE_PATH = \"config/default.json\"\n",
    "LOCAL_CONFIG_FILE_PATH = \"config/local.json\"\n",
    "\n",
    "default = open(DEFAULT_CONFIG_FILE_PATH)\n",
    "CONFIG = json.load(default)\n",
    "\n",
    "if os.path.exists(LOCAL_CONFIG_FILE_PATH):\n",
    "    with open(LOCAL_CONFIG_FILE_PATH) as local:\n",
    "        CONFIG.update(json.load(local))\n",
    "\n",
    "df = pd.read_csv(CONFIG[\"training_set\"][\"path\"])\n",
    "\n",
    "CONFIG = process_config(CONFIG, df)"
   ]
  },
  {
   "cell_type": "code",
   "execution_count": null,
   "metadata": {},
   "outputs": [],
   "source": [
    "df_train, df_valid = split_dataset(df, CONFIG['seed'])"
   ]
  },
  {
   "cell_type": "code",
   "execution_count": null,
   "metadata": {},
   "outputs": [],
   "source": [
    "training_data, val_data = build_datasets([df_train, df_valid], CONFIG, [CONFIG[\"training_set\"][\"type\"], CONFIG[\"training_set\"][\"type\"]])"
   ]
  },
  {
   "cell_type": "code",
   "execution_count": null,
   "metadata": {},
   "outputs": [],
   "source": [
    "model, loss_history = run_training(training_data, val_data, log_interval=100, config=CONFIG, verbose=True)"
   ]
  },
  {
   "cell_type": "code",
   "execution_count": null,
   "metadata": {},
   "outputs": [],
   "source": [
    "# TODO Evaluation and plotting"
   ]
  }
 ],
 "metadata": {
  "interpreter": {
   "hash": "ffadaf9e10aa498c9f8f983807a351c552daa3bebeb8809def47b936e4fb9c51"
  },
  "kernelspec": {
   "display_name": "Python 3.9.9 64-bit ('rate-severity-of-toxic-comments-gIPSL8Vl': pipenv)",
   "language": "python",
   "name": "python3"
  },
  "language_info": {
   "codemirror_mode": {
    "name": "ipython",
    "version": 3
   },
   "file_extension": ".py",
   "mimetype": "text/x-python",
   "name": "python",
   "nbconvert_exporter": "python",
   "pygments_lexer": "ipython3",
   "version": "3.9.7"
  },
  "orig_nbformat": 4
 },
 "nbformat": 4,
 "nbformat_minor": 2
}
