{
 "cells": [
  {
   "cell_type": "code",
   "execution_count": null,
   "metadata": {},
   "outputs": [],
   "source": [
    "%load_ext autoreload\n",
    "%autoreload 2"
   ]
  },
  {
   "cell_type": "code",
   "execution_count": null,
   "metadata": {},
   "outputs": [],
   "source": [
    "import os\n",
    "\n",
    "import pandas as pd\n",
    "import torch\n",
    "import torch.nn as nn\n",
    "import torch.optim as optim\n",
    "from transformers import AutoTokenizer\n",
    "\n",
    "from rate_severity_of_toxic_comments.utilities import *\n",
    "from rate_severity_of_toxic_comments.model import *\n",
    "from rate_severity_of_toxic_comments.dataset import *\n",
    "from rate_severity_of_toxic_comments.training import * \n",
    "\n",
    "# For descriptive error messages\n",
    "os.environ['CUDA_LAUNCH_BLOCKING'] = \"1\""
   ]
  },
  {
   "cell_type": "code",
   "execution_count": null,
   "metadata": {},
   "outputs": [],
   "source": [
    "import wandb"
   ]
  },
  {
   "cell_type": "code",
   "execution_count": null,
   "metadata": {},
   "outputs": [],
   "source": [
    "CONFIG = {\n",
    "    \"seed\": 42,\n",
    "    \"epochs\": 10,\n",
    "    \"model_name\": \"roberta-base\",\n",
    "    \"train_batch_size\": 32,\n",
    "    \"valid_batch_size\": 64,\n",
    "    \"learning_rate\": 1e-4,\n",
    "    \"max_length\": 128,\n",
    "    \"margin\": 0.5,\n",
    "    \"use_gpu\": False,\n",
    "    \"run_mode\": \"test\"\n",
    "}\n",
    "\n",
    "CONFIG[\"tokenizer\"] = AutoTokenizer.from_pretrained(CONFIG['model_name'])\n",
    "# CONFIG['group'] = f'{HASH_NAME}-Baseline'"
   ]
  },
  {
   "cell_type": "code",
   "execution_count": null,
   "metadata": {},
   "outputs": [],
   "source": [
    "df = pd.read_csv(\"res/data/validation_data.csv\")\n",
    "df = df.sample(20)\n",
    "data_size = len(df.index)"
   ]
  },
  {
   "cell_type": "code",
   "execution_count": null,
   "metadata": {},
   "outputs": [],
   "source": [
    "train_split = 0.7\n",
    "threshold_index = int(train_split * data_size)\n",
    "\n",
    "df_train = df[:threshold_index].reset_index(drop=True)\n",
    "df_valid = df[threshold_index:].reset_index(drop=True)\n",
    "training_data, val_data = build_datasets([df_train, df_valid], CONFIG)"
   ]
  },
  {
   "cell_type": "code",
   "execution_count": null,
   "metadata": {},
   "outputs": [],
   "source": [
    "run = wandb.init(project=\"rate-comments\",\n",
    "    entity=\"toxicity\",\n",
    "    config=CONFIG,\n",
    "    job_type='Train',\n",
    "    # group=\"\", TODO?\n",
    "    tags=[CONFIG[\"run_mode\"]])\n",
    "\n",
    "wandb.run.name = CONFIG[\"run_mode\"] + \"-\" + wandb.run.id\n",
    "wandb.run.save()\n",
    "\n",
    "device = torch.device(\"cuda\" if torch.cuda.is_available() and CONFIG[\"use_gpu\"] else \"cpu\")\n",
    "loss_fn = nn.MarginRankingLoss(margin=CONFIG['margin'])\n",
    "\n",
    "train_loader, valid_loader = build_dataloaders([training_data, val_data], batch_sizes=(CONFIG[\"train_batch_size\"], CONFIG[\"valid_batch_size\"]))\n",
    "\n",
    "model = create_model(CONFIG)\n",
    "model.to(device)\n",
    "\n",
    "optimizer = optim.Adam(model.parameters(), lr=CONFIG[\"learning_rate\"])\n",
    "\n",
    "stats = run_training(train_loader, valid_loader, model, loss_fn, optimizer, device, \n",
    "    CONFIG[\"epochs\"], log_interval=10, verbose=True)\n",
    "    \n",
    "run.finish()"
   ]
  }
 ],
 "metadata": {
  "interpreter": {
   "hash": "ffadaf9e10aa498c9f8f983807a351c552daa3bebeb8809def47b936e4fb9c51"
  },
  "kernelspec": {
   "display_name": "Python 3.9.9 64-bit ('rate-severity-of-toxic-comments-gIPSL8Vl': pipenv)",
   "language": "python",
   "name": "python3"
  },
  "language_info": {
   "codemirror_mode": {
    "name": "ipython",
    "version": 3
   },
   "file_extension": ".py",
   "mimetype": "text/x-python",
   "name": "python",
   "nbconvert_exporter": "python",
   "pygments_lexer": "ipython3",
   "version": "3.9.9"
  },
  "orig_nbformat": 4
 },
 "nbformat": 4,
 "nbformat_minor": 2
}
