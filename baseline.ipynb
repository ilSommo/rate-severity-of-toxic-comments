{
 "cells": [
  {
   "cell_type": "code",
   "execution_count": null,
   "metadata": {},
   "outputs": [],
   "source": [
    "%load_ext autoreload\n",
    "%autoreload 2"
   ]
  },
  {
   "cell_type": "code",
   "execution_count": null,
   "metadata": {},
   "outputs": [],
   "source": [
    "import os\n",
    "import json\n",
    "\n",
    "import pandas as pd\n",
    "\n",
    "from rate_severity_of_toxic_comments.utilities import *\n",
    "from rate_severity_of_toxic_comments.model import *\n",
    "from rate_severity_of_toxic_comments.dataset import *\n",
    "from rate_severity_of_toxic_comments.training import * \n",
    "from rate_severity_of_toxic_comments.preprocessing import *\n",
    "from rate_severity_of_toxic_comments.tokenizer import * \n",
    "from rate_severity_of_toxic_comments.embedding import * \n",
    "\n",
    "# For descriptive error messages\n",
    "os.environ['CUDA_LAUNCH_BLOCKING'] = \"1\""
   ]
  },
  {
   "cell_type": "code",
   "execution_count": null,
   "metadata": {},
   "outputs": [],
   "source": [
    "DEFAULT_CONFIG_FILE_PATH = \"config/default.json\"\n",
    "LOCAL_CONFIG_FILE_PATH = \"config/local.json\"\n",
    "\n",
    "default = open(DEFAULT_CONFIG_FILE_PATH)\n",
    "CONFIG = json.load(default)\n",
    "\n",
    "if os.path.exists(LOCAL_CONFIG_FILE_PATH):\n",
    "    with open(LOCAL_CONFIG_FILE_PATH) as local:\n",
    "        CONFIG.update(json.load(local))\n",
    "\n",
    "validate_config(CONFIG)\n",
    "\n",
    "run_mode = CONFIG[\"options\"][\"run_mode\"]\n",
    "df = load_dataframe(run_mode, CONFIG[\"training\"], CONFIG[run_mode])\n",
    "\n",
    "support_bag = process_config(df, CONFIG)"
   ]
  },
  {
   "cell_type": "code",
   "execution_count": null,
   "metadata": {},
   "outputs": [],
   "source": [
    "df_train, df_valid = split_dataset(df, CONFIG['options']['seed'])"
   ]
  },
  {
   "cell_type": "code",
   "execution_count": null,
   "metadata": {},
   "outputs": [],
   "source": [
    "training_data = build_dataset(df_train, CONFIG[\"training\"][\"dataset\"], CONFIG[run_mode], support_bag[\"tokenizer\"])\n",
    "val_data = build_dataset(df_valid, CONFIG[\"training\"][\"dataset\"], CONFIG[run_mode], support_bag[\"tokenizer\"])"
   ]
  },
  {
   "cell_type": "code",
   "execution_count": null,
   "metadata": {},
   "outputs": [],
   "source": [
    "model, loss_history = run_training(run_mode, training_data, val_data, CONFIG[\"training\"], CONFIG[run_mode], support_bag, CONFIG[\"options\"][\"seed\"], CONFIG[\"options\"][\"wandb\"], CONFIG[\"options\"][\"use_gpu\"], verbose=True, log_interval=100)"
   ]
  },
  {
   "cell_type": "code",
   "execution_count": null,
   "metadata": {},
   "outputs": [],
   "source": [
    "# TODO Evaluation and plotting"
   ]
  }
 ],
 "metadata": {
  "interpreter": {
   "hash": "ffadaf9e10aa498c9f8f983807a351c552daa3bebeb8809def47b936e4fb9c51"
  },
  "kernelspec": {
   "display_name": "Python 3.9.9 64-bit ('rate-severity-of-toxic-comments-gIPSL8Vl': pipenv)",
   "language": "python",
   "name": "python3"
  },
  "language_info": {
   "codemirror_mode": {
    "name": "ipython",
    "version": 3
   },
   "file_extension": ".py",
   "mimetype": "text/x-python",
   "name": "python",
   "nbconvert_exporter": "python",
   "pygments_lexer": "ipython3",
   "version": "3.9.9"
  },
  "orig_nbformat": 4
 },
 "nbformat": 4,
 "nbformat_minor": 2
}
