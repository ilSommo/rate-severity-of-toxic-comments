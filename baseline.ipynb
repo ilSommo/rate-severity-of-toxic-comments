{
 "cells": [
  {
   "cell_type": "code",
   "execution_count": null,
   "metadata": {},
   "outputs": [],
   "source": [
    "%load_ext autoreload\n",
    "%autoreload 2"
   ]
  },
  {
   "cell_type": "code",
   "execution_count": null,
   "metadata": {},
   "outputs": [],
   "source": [
    "import os\n",
    "import json\n",
    "\n",
    "import pandas as pd\n",
    "from transformers import AutoTokenizer\n",
    "\n",
    "from rate_severity_of_toxic_comments.utilities import *\n",
    "from rate_severity_of_toxic_comments.model import *\n",
    "from rate_severity_of_toxic_comments.dataset import *\n",
    "from rate_severity_of_toxic_comments.training import * \n",
    "from rate_severity_of_toxic_comments.preprocessing import *\n",
    "from rate_severity_of_toxic_comments.tokenizer import * \n",
    "from rate_severity_of_toxic_comments.embedding import * \n",
    "\n",
    "# For descriptive error messages\n",
    "os.environ['CUDA_LAUNCH_BLOCKING'] = \"1\""
   ]
  },
  {
   "cell_type": "code",
   "execution_count": null,
   "metadata": {},
   "outputs": [],
   "source": [
    "DEFAULT_CONFIG_FILE_PATH = \"config/default.json\"\n",
    "LOCAL_CONFIG_FILE_PATH = \"config/local.json\"\n",
    "\n",
    "default = open(DEFAULT_CONFIG_FILE_PATH)\n",
    "CONFIG = json.load(default)\n",
    "\n",
    "if os.path.exists(LOCAL_CONFIG_FILE_PATH):\n",
    "    with open(LOCAL_CONFIG_FILE_PATH) as local:\n",
    "        CONFIG.update(json.load(local))\n",
    "\n",
    "CONFIG = process_config(CONFIG)"
   ]
  },
  {
   "cell_type": "code",
   "execution_count": null,
   "metadata": {},
   "outputs": [],
   "source": [
    "df = pd.read_csv(\"res/data/weighted_train_small.csv\")\n",
    "# df = pd.read_csv(\"res/data/validation_data.csv\")\n",
    "df = df.sample(20)\n",
    "data_size = len(df.index)"
   ]
  },
  {
   "cell_type": "code",
   "execution_count": null,
   "metadata": {},
   "outputs": [],
   "source": [
    "train_split = 0.7\n",
    "threshold_index = int(train_split * data_size)\n",
    "\n",
    "df_train = df[:threshold_index].reset_index(drop=True)\n",
    "df_valid = df[threshold_index:].reset_index(drop=True)"
   ]
  },
  {
   "cell_type": "code",
   "execution_count": null,
   "metadata": {},
   "outputs": [],
   "source": [
    "preproc_pipelines = CONFIG['preprocessing']\n",
    "\n",
    "### JUST FOR TESTING APPLIED ALSO ON VALIDATION SET\n",
    "\n",
    "for df in [df_train, df_valid]:\n",
    "    df = apply_preprocessing_pipelines(df, preproc_pipelines)"
   ]
  },
  {
   "cell_type": "code",
   "execution_count": null,
   "metadata": {},
   "outputs": [],
   "source": [
    "training_data, val_data = build_datasets([df_train, df_valid], CONFIG, [\"weighted\", \"weighted\"])"
   ]
  },
  {
   "cell_type": "code",
   "execution_count": null,
   "metadata": {},
   "outputs": [],
   "source": [
    "model, loss_history = run_training(training_data, val_data, log_interval=10, config=CONFIG, verbose=True)"
   ]
  },
  {
   "cell_type": "code",
   "execution_count": null,
   "metadata": {},
   "outputs": [],
   "source": [
    "# TODO Evaluation and plotting"
   ]
  }
 ],
 "metadata": {
  "interpreter": {
   "hash": "ffadaf9e10aa498c9f8f983807a351c552daa3bebeb8809def47b936e4fb9c51"
  },
  "kernelspec": {
   "display_name": "Python 3.9.9 64-bit ('rate-severity-of-toxic-comments-gIPSL8Vl': pipenv)",
   "language": "python",
   "name": "python3"
  },
  "language_info": {
   "codemirror_mode": {
    "name": "ipython",
    "version": 3
   },
   "file_extension": ".py",
   "mimetype": "text/x-python",
   "name": "python",
   "nbconvert_exporter": "python",
   "pygments_lexer": "ipython3",
   "version": "3.9.9"
  },
  "orig_nbformat": 4
 },
 "nbformat": 4,
 "nbformat_minor": 2
}
